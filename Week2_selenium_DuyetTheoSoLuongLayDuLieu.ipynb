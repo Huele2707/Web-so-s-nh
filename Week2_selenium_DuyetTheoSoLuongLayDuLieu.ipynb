{
 "cells": [
  {
   "cell_type": "code",
   "execution_count": 1,
   "id": "555b8204",
   "metadata": {},
   "outputs": [],
   "source": [
    "from selenium import webdriver\n",
    "from selenium.webdriver.common.by import By\n",
    "from selenium.webdriver.common.keys import Keys\n",
    "\n",
    "import pandas as pd\n",
    "import numpy as np"
   ]
  },
  {
   "cell_type": "code",
   "execution_count": 2,
   "id": "4cb33585",
   "metadata": {},
   "outputs": [],
   "source": [
    "def auto_search(key,loop):\n",
    "    list_title = np.array([])\n",
    "\n",
    "    list_link = np.array([])\n",
    "    # Mở chorme, vào google\n",
    "    driver = webdriver.Chrome()\n",
    "    driver.get(\"https://www.google.com/\")\n",
    "    #Lấy input tìm kiếm\n",
    "    search = driver.find_element(By.CLASS_NAME, \"gLFyf\")\n",
    "    #Nhập key vào input, sau đó tìm kiếm\n",
    "    search.send_keys(key, Keys.RETURN)\n",
    "    #Đợi 5s cho google tải hết các link\n",
    "    driver.implicitly_wait(20)\n",
    "    #Lấy tất cả các link:\n",
    "    total_link = driver.find_elements(By.CLASS_NAME, \"DKV0Md\")\n",
    "    print(len(total_link)) #Check xem tìm thấy bao nhiêu link\n",
    "    count_link = 0\n",
    "    i = 0\n",
    "    while(count_link <= loop):\n",
    "        if i < len(total_link): #Check nếu số link đã vào < số link đang có thì vào link\n",
    "            total_link[i].click()\n",
    "            list_link = np.append(list_link,driver.current_url)\n",
    "            list_title= np.append(list_title,driver.title)\n",
    "            count_link += 1\n",
    "            i += 1\n",
    "            driver.implicitly_wait(5)\n",
    "            driver.back()\n",
    "        else: #Số link đã vào > số link đang có thì chuyển sang tab 2 của goole, lấy lại link và vào link mới\n",
    "            i = 0\n",
    "            next_page = driver.find_element(By.XPATH, \"//span[@style='display:block;margin-left:53px']\")\n",
    "            next_page.click()\n",
    "            total_link = driver.find_elements(By.CLASS_NAME, \"DKV0Md\")\n",
    "            print(len(total_link))\n",
    "            total_link[i].click()\n",
    "            list_link = np.append(list_link,driver.current_url)\n",
    "            list_title= np.append(list_title,driver.title)\n",
    "            count_link += 1\n",
    "            i += 1\n",
    "            driver.back()\n",
    "            driver.implicitly_wait(5)\n",
    "    driver.close()\n",
    "    print(\"Link: \")\n",
    "    print(list_link)\n",
    "    print(\"Title: \")\n",
    "    print(list_title)\n",
    "    return"
   ]
  },
  {
   "cell_type": "code",
   "execution_count": 3,
   "id": "c73d23db",
   "metadata": {},
   "outputs": [
    {
     "name": "stdout",
     "output_type": "stream",
     "text": [
      "9\n",
      "10\n",
      "Link: \n",
      "['https://www.thegioididong.com/dtdd/iphone-14#2-gia'\n",
      " 'https://viettelstore.vn/apple/iphone-14'\n",
      " 'https://cellphones.com.vn/mobile/apple/iphone-14.html'\n",
      " 'https://fptshop.com.vn/dien-thoai/iphone-14'\n",
      " 'https://dienthoaigiakho.vn/dien-thoai/apple-iphone/iphone-14-series'\n",
      " 'https://www.dienmayxanh.com/dien-thoai/iphone-14#2-gia'\n",
      " 'https://www.xtmobile.vn/iphone-14'\n",
      " 'https://clickbuy.com.vn/danh-muc/iphone-14-series/'\n",
      " 'https://didongviet.vn/dchannel/danh-gia-iphone-14/'\n",
      " 'https://www.thegioididong.com/dtdd/iphone-14-pro'\n",
      " 'https://www.lazada.vn/products/e-voucher-so-huu-ngay-dien-thoai-ip14-512gb-ip-14-pro-max-full-box-so-luong-gioi-han-2022-2023-i2041533871-s9529465861.html'\n",
      " 'https://chungmobile.com/product-category/ip1414plus14pro14promax/'\n",
      " 'https://didongviet.vn/dchannel/iphone-14-mau-xanh-duong/'\n",
      " 'https://shopee.vn/%E1%BB%90P-IPHONE-FULL-VI%E1%BB%80N-TRONG-ARIELLE-CASE-CHO-IP14-14PRO-14PLUS-14PM-i.185941701.20253198436?xptdk=eaf44b7f-aeab-40e3-b099-cb9e4168a79b'\n",
      " 'https://shopee.vn/%E1%BB%90p-MEMUMI-si%C3%AAu-m%E1%BB%8Fng-Ip12-ip12-pro-ip12-pro-max-i.24819038.1162754205'\n",
      " 'https://e3audiomiennam.com/da-co-ip14-op-lung-silicon-trong-suot-kem-ngan-dung-the-cho-iphone-6-den-14-pro-max-s276055972-p8680943899.html']\n",
      "Title: \n",
      "['iPhone 14 128GB chính hãng giảm 2 triệu'\n",
      " 'iPhone 14 series (Plus/Pro/Pro Max) chính hãng | Nhận máy ngay - ViettelStore.vn'\n",
      " 'iPhone 14 (Plus/Pro/Pro Max) | Giá tốt, ưu đãi khủng 7 triệu'\n",
      " 'iPhone 14 128GB giá tốt | Ưu đãi 6 triệu, trợ giá lên đời 3 triệu | Fptshop.com.vn'\n",
      " 'iPhone 14, 14 Plus, 14 Pro, 14 Pro Max | Giá bán tốt, ưu đãi khủng'\n",
      " 'iPhone 14 128GB giảm 2 triệu - Chính hãng, giá tốt'\n",
      " 'iPhone 14, 14 Plus, 14 Pro, 14 Pro Max | Giá Rẻ, Thu Cũ Lên Đời'\n",
      " 'iPhone 14 chính hãng VNA, giảm giá 6 triệu, bảo hành 2 năm'\n",
      " 'Đánh giá iPhone 14 sau 3 ngày dùng: \"Bình cũ rượu có mới\"'\n",
      " 'iPhone 14 Pro 128GB chính hãng ưu đãi lên đến 6,5 triệu'\n",
      " 'Sorry, we have detected unusual traffic from your network.'\n",
      " 'IP14|14PLUS|14PRO|14PROMAX Archives - Chung Mobile'\n",
      " 'Trên tay iPhone 14 màu xanh dương (mới): Siêu phẩm cực Hot'\n",
      " 'ỐP IPHONE FULL VIỀN TRONG ARIELLE CASE CHO IP14/14PRO/14PLUS/14PM | Shopee Việt Nam'\n",
      " 'Shopee Việt Nam | Mua và Bán Trên Ứng Dụng Di Động Hoặc Website'\n",
      " '[ Đã có iP14 ] Ốp lưng silicon trong suốt kèm ngăn đựng thẻ cho iphone 6 đến 14 pro max']\n"
     ]
    }
   ],
   "source": [
    "auto_search('ip14', 15)"
   ]
  },
  {
   "cell_type": "code",
   "execution_count": null,
   "id": "ad32e29f",
   "metadata": {},
   "outputs": [],
   "source": []
  }
 ],
 "metadata": {
  "kernelspec": {
   "display_name": "Python 3 (ipykernel)",
   "language": "python",
   "name": "python3"
  },
  "language_info": {
   "codemirror_mode": {
    "name": "ipython",
    "version": 3
   },
   "file_extension": ".py",
   "mimetype": "text/x-python",
   "name": "python",
   "nbconvert_exporter": "python",
   "pygments_lexer": "ipython3",
   "version": "3.9.13"
  }
 },
 "nbformat": 4,
 "nbformat_minor": 5
}
