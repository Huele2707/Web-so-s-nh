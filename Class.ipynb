{
 "cells": [
  {
   "cell_type": "code",
   "execution_count": 1,
   "id": "e4662bfe",
   "metadata": {},
   "outputs": [],
   "source": [
    "from selenium import webdriver\n",
    "from selenium.webdriver.common.keys import Keys\n",
    "from selenium.webdriver.common.by import By\n",
    "import numpy as np"
   ]
  },
  {
   "cell_type": "code",
   "execution_count": 32,
   "id": "cc771879",
   "metadata": {},
   "outputs": [],
   "source": [
    "class AutoSearch:\n",
    "    google_link = \"https://www.google.com/\"\n",
    "    google_input_class = \"gLFyf\"\n",
    "    googe_link_class = \"LC20lb\"\n",
    "    def __init__(self, keyword, loop):\n",
    "        self.keyword = keyword\n",
    "        self.loop = loop\n",
    "        self.links = np.array([])\n",
    "        self.web_titles = np.array([])\n",
    "        self.search()\n",
    "    def search(self):\n",
    "        # Mở chorme, vào google\n",
    "        driver = webdriver.Chrome()\n",
    "        driver.get(self.google_link)\n",
    "        #Lấy input tìm kiếm\n",
    "        search = driver.find_element(By.CLASS_NAME, self.google_input_class)\n",
    "        #Nhập key vào input, sau đó tìm kiếm\n",
    "        search.send_keys(self.keyword, Keys.RETURN)\n",
    "        #Đợi 5s cho google tải hết các link\n",
    "        driver.implicitly_wait(5)\n",
    "        #Lấy tất cả các link:\n",
    "        total_link = driver.find_elements(By.CLASS_NAME, self.googe_link_class)\n",
    "        print(len(total_link)) #Check xem tìm thấy bao nhiêu link\n",
    "        count_link = 0\n",
    "        i = 0\n",
    "        while(count_link <= self.loop):\n",
    "            if i < len(total_link): #Check nếu số link đã vào < số link đang có thì vào link\n",
    "                total_link[i].click()\n",
    "                self.links = np.append(self.links,driver.current_url)\n",
    "                self.web_titles = np.append(self.web_titles,driver.title)\n",
    "                count_link += 1\n",
    "                i += 1\n",
    "                driver.back()\n",
    "                driver.implicitly_wait(5)\n",
    "            else: #Số link đã vào > số link đang có thì chuyển sang tab 2 của goole, lấy lại link và vào link mới\n",
    "                i = 0\n",
    "                next_page = driver.find_element(By.XPATH, \"//span[@style='display:block;margin-left:53px']\")\n",
    "                next_page.click()\n",
    "                total_link = driver.find_elements(By.CLASS_NAME, self.googe_link_class)\n",
    "                print(len(total_link))\n",
    "                total_link[i].click()\n",
    "                self.links = np.append(self.links,driver.current_url)\n",
    "                self.web_titles = np.append(self.web_titles,driver.title)\n",
    "                count_link += 1\n",
    "                i += 1\n",
    "                driver.back()\n",
    "                driver.implicitly_wait(5)\n",
    "                    \n",
    "        driver.close()"
   ]
  },
  {
   "cell_type": "code",
   "execution_count": 34,
   "id": "b207198f",
   "metadata": {},
   "outputs": [
    {
     "name": "stdout",
     "output_type": "stream",
     "text": [
      "9\n",
      "10\n"
     ]
    }
   ],
   "source": [
    "a = AutoSearch(\"rtx3090\",10)"
   ]
  },
  {
   "cell_type": "code",
   "execution_count": 35,
   "id": "44d37208",
   "metadata": {},
   "outputs": [
    {
     "name": "stdout",
     "output_type": "stream",
     "text": [
      "['https://hacom.vn/nvidia-rtx-3090'\n",
      " 'https://gearvn.com/collections/vga-rtx-ampere-3090'\n",
      " 'https://hoanghapc.vn/nvidia-rtx-3090'\n",
      " 'https://www.anphatpc.com.vn/vga-rtx-3090.html'\n",
      " 'https://www.nvidia.com/vi-vn/geforce/graphics-cards/30-series/rtx-3090-3090ti/'\n",
      " 'https://www.nvidia.com/en-us/geforce/graphics-cards/30-series/rtx-3090-3090ti/'\n",
      " 'https://tinhocngoisao.com/collections/card-man-hinh-vga-rtx-3090'\n",
      " 'https://nguyencongpc.vn/tag/rtx-3090' 'https://songphuong.vn/rtx-3090/'\n",
      " 'https://kccshop.vn/card-man-hinh-asus-tuf-rtx-3090-o24g-gaming/'\n",
      " 'https://kccshop.vn/card-man-hinh-asus-tuf-rtx-3090-24g-gaming/']\n"
     ]
    }
   ],
   "source": [
    "print(a.links)"
   ]
  },
  {
   "cell_type": "code",
   "execution_count": null,
   "id": "8d69bb6f",
   "metadata": {},
   "outputs": [],
   "source": []
  }
 ],
 "metadata": {
  "kernelspec": {
   "display_name": "Python 3 (ipykernel)",
   "language": "python",
   "name": "python3"
  },
  "language_info": {
   "codemirror_mode": {
    "name": "ipython",
    "version": 3
   },
   "file_extension": ".py",
   "mimetype": "text/x-python",
   "name": "python",
   "nbconvert_exporter": "python",
   "pygments_lexer": "ipython3",
   "version": "3.9.13"
  }
 },
 "nbformat": 4,
 "nbformat_minor": 5
}
