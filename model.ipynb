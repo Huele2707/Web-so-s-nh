{
 "cells": [
  {
   "cell_type": "code",
   "execution_count": 1,
   "id": "434c2189",
   "metadata": {},
   "outputs": [],
   "source": [
    "import hmlib"
   ]
  },
  {
   "cell_type": "markdown",
   "id": "e904b020",
   "metadata": {},
   "source": [
    "# Sử dụng library để dự đoán hoa"
   ]
  },
  {
   "cell_type": "code",
   "execution_count": 10,
   "id": "e6a27c98",
   "metadata": {},
   "outputs": [],
   "source": [
    "y = [1,2,3,4,1,1,1,1,1,2,2,1,2,1,2,1]"
   ]
  },
  {
   "cell_type": "code",
   "execution_count": 11,
   "id": "8bd7cfc6",
   "metadata": {},
   "outputs": [
    {
     "data": {
      "text/plain": [
       "array(['virginica', 'setosa', 'setosa', 'setosa'], dtype='<U32')"
      ]
     },
     "execution_count": 11,
     "metadata": {},
     "output_type": "execute_result"
    }
   ],
   "source": [
    "model = hmlib.Iris_Model()\n",
    "model.predict(y)"
   ]
  },
  {
   "cell_type": "code",
   "execution_count": 12,
   "id": "b669774a",
   "metadata": {},
   "outputs": [
    {
     "data": {
      "text/html": [
       "<div>\n",
       "<style scoped>\n",
       "    .dataframe tbody tr th:only-of-type {\n",
       "        vertical-align: middle;\n",
       "    }\n",
       "\n",
       "    .dataframe tbody tr th {\n",
       "        vertical-align: top;\n",
       "    }\n",
       "\n",
       "    .dataframe thead th {\n",
       "        text-align: right;\n",
       "    }\n",
       "</style>\n",
       "<table border=\"1\" class=\"dataframe\">\n",
       "  <thead>\n",
       "    <tr style=\"text-align: right;\">\n",
       "      <th></th>\n",
       "      <th>setosa</th>\n",
       "      <th>versicolor</th>\n",
       "      <th>virginica</th>\n",
       "    </tr>\n",
       "  </thead>\n",
       "  <tbody>\n",
       "    <tr>\n",
       "      <th>0</th>\n",
       "      <td>0.062815</td>\n",
       "      <td>0.020822</td>\n",
       "      <td>0.916363</td>\n",
       "    </tr>\n",
       "    <tr>\n",
       "      <th>1</th>\n",
       "      <td>0.990687</td>\n",
       "      <td>0.009312</td>\n",
       "      <td>0.000002</td>\n",
       "    </tr>\n",
       "    <tr>\n",
       "      <th>2</th>\n",
       "      <td>0.977307</td>\n",
       "      <td>0.022647</td>\n",
       "      <td>0.000046</td>\n",
       "    </tr>\n",
       "    <tr>\n",
       "      <th>3</th>\n",
       "      <td>0.847579</td>\n",
       "      <td>0.152205</td>\n",
       "      <td>0.000216</td>\n",
       "    </tr>\n",
       "  </tbody>\n",
       "</table>\n",
       "</div>"
      ],
      "text/plain": [
       "     setosa  versicolor  virginica\n",
       "0  0.062815    0.020822   0.916363\n",
       "1  0.990687    0.009312   0.000002\n",
       "2  0.977307    0.022647   0.000046\n",
       "3  0.847579    0.152205   0.000216"
      ]
     },
     "execution_count": 12,
     "metadata": {},
     "output_type": "execute_result"
    }
   ],
   "source": [
    "model.predict_probability(y)"
   ]
  },
  {
   "cell_type": "code",
   "execution_count": null,
   "id": "eb3cceb9",
   "metadata": {},
   "outputs": [],
   "source": []
  }
 ],
 "metadata": {
  "kernelspec": {
   "display_name": "Python 3 (ipykernel)",
   "language": "python",
   "name": "python3"
  },
  "language_info": {
   "codemirror_mode": {
    "name": "ipython",
    "version": 3
   },
   "file_extension": ".py",
   "mimetype": "text/x-python",
   "name": "python",
   "nbconvert_exporter": "python",
   "pygments_lexer": "ipython3",
   "version": "3.9.13"
  }
 },
 "nbformat": 4,
 "nbformat_minor": 5
}
