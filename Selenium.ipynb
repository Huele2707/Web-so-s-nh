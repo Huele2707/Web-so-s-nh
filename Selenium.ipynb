{
 "cells": [
  {
   "cell_type": "code",
   "execution_count": 1,
   "id": "555b8204",
   "metadata": {},
   "outputs": [],
   "source": [
    "from selenium import webdriver\n",
    "from selenium.webdriver.common.by import By\n",
    "from selenium.webdriver.common.keys import Keys\n",
    "\n",
    "import pandas as pd\n",
    "import numpy as np"
   ]
  },
  {
   "cell_type": "code",
   "execution_count": 2,
   "id": "4cb33585",
   "metadata": {},
   "outputs": [],
   "source": [
    "def auto_search(key,loop):\n",
    "    list_title = np.array([])\n",
    "\n",
    "    list_link = np.array([])\n",
    "    # Mở chorme, vào google\n",
    "    driver = webdriver.Chrome()\n",
    "    driver.get(\"https://www.google.com/\")\n",
    "    #Lấy input tìm kiếm\n",
    "    search = driver.find_element(By.CLASS_NAME, \"gLFyf\")\n",
    "    #Nhập key vào input, sau đó tìm kiếm\n",
    "    search.send_keys(key, Keys.RETURN)\n",
    "    #Đợi 5s cho google tải hết các link\n",
    "    driver.implicitly_wait(20)\n",
    "    #Lấy tất cả các link:\n",
    "    total_link = driver.find_elements(By.CLASS_NAME, \"DKV0Md\")\n",
    "    print(len(total_link)) #Check xem tìm thấy bao nhiêu link\n",
    "    count_link = 0\n",
    "    i = 0\n",
    "    while(count_link <= loop):\n",
    "        if i < len(total_link): #Check nếu số link đã vào < số link đang có thì vào link\n",
    "            total_link[i].click()\n",
    "            list_link = np.append(list_link,driver.current_url)\n",
    "            list_title= np.append(list_title,driver.title)\n",
    "            count_link += 1\n",
    "            i += 1\n",
    "            driver.implicitly_wait(5)\n",
    "            driver.back()\n",
    "        else: #Số link đã vào > số link đang có thì chuyển sang tab 2 của goole, lấy lại link và vào link mới\n",
    "            i = 0\n",
    "            next_page = driver.find_element(By.XPATH, \"//span[@style='display:block;margin-left:53px']\")\n",
    "            next_page.click()\n",
    "            total_link = driver.find_elements(By.CLASS_NAME, \"DKV0Md\")\n",
    "            print(len(total_link))\n",
    "            total_link[i].click()\n",
    "            list_link = np.append(list_link,driver.current_url)\n",
    "            list_title= np.append(list_title,driver.title)\n",
    "            count_link += 1\n",
    "            i += 1\n",
    "            driver.back()\n",
    "            driver.implicitly_wait(5)\n",
    "    driver.close()\n",
    "    print(\"Link: \")\n",
    "    print(list_link)\n",
    "    print(\"Title: \")\n",
    "    print(list_title)\n",
    "    return"
   ]
  },
  {
   "cell_type": "code",
   "execution_count": null,
   "id": "c73d23db",
   "metadata": {},
   "outputs": [
    {
     "name": "stdout",
     "output_type": "stream",
     "text": [
      "9\n",
      "10\n"
     ]
    }
   ],
   "source": [
    "auto_search('ip14', 15)"
   ]
  },
  {
   "cell_type": "code",
   "execution_count": null,
   "id": "ad32e29f",
   "metadata": {},
   "outputs": [],
   "source": []
  }
 ],
 "metadata": {
  "kernelspec": {
   "display_name": "Python 3 (ipykernel)",
   "language": "python",
   "name": "python3"
  },
  "language_info": {
   "codemirror_mode": {
    "name": "ipython",
    "version": 3
   },
   "file_extension": ".py",
   "mimetype": "text/x-python",
   "name": "python",
   "nbconvert_exporter": "python",
   "pygments_lexer": "ipython3",
   "version": "3.9.13"
  }
 },
 "nbformat": 4,
 "nbformat_minor": 5
}
